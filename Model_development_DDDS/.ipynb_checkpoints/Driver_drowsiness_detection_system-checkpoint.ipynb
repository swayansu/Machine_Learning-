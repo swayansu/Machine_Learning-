{
 "cells": [
  {
   "cell_type": "markdown",
   "id": "64abb308",
   "metadata": {},
   "source": [
    "# Driver Drowsin"
   ]
  },
  {
   "cell_type": "code",
   "execution_count": null,
   "id": "94df21c8",
   "metadata": {},
   "outputs": [],
   "source": [
    "!cd yolov5 & pip install -r requirements.txt"
   ]
  },
  {
   "cell_type": "code",
   "execution_count": null,
   "id": "3d23b963",
   "metadata": {},
   "outputs": [],
   "source": []
  }
 ],
 "metadata": {
  "kernelspec": {
   "display_name": "Python 3 (ipykernel)",
   "language": "python",
   "name": "python3"
  },
  "language_info": {
   "codemirror_mode": {
    "name": "ipython",
    "version": 3
   },
   "file_extension": ".py",
   "mimetype": "text/x-python",
   "name": "python",
   "nbconvert_exporter": "python",
   "pygments_lexer": "ipython3",
   "version": "3.10.9"
  }
 },
 "nbformat": 4,
 "nbformat_minor": 5
}
